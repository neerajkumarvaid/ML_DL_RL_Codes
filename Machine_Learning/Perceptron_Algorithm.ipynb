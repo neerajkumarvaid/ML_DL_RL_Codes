{
 "cells": [
  {
   "cell_type": "code",
   "execution_count": 56,
   "metadata": {},
   "outputs": [],
   "source": [
    "import numpy as np\n",
    "\n",
    "class Perceptron(object):\n",
    "\n",
    "    def __init__(self, no_of_inputs, threshold=5, learning_rate=0.1):\n",
    "        self.threshold = threshold\n",
    "        self.learning_rate = learning_rate\n",
    "        self.weights = np.zeros(no_of_inputs + 1)\n",
    "           \n",
    "    def predict(self, inputs):\n",
    "        if inputs.ndim == 1:\n",
    "            summation = np.dot(inputs, self.weights[1:]) + self.weights[0]\n",
    "            if summation > 0:\n",
    "              activation = 1\n",
    "            else:\n",
    "                activation = 0\n",
    "            return activation\n",
    "        else:\n",
    "            plabel = []\n",
    "            for x in inputs:\n",
    "                summation = np.dot(x, self.weights[1:]) + self.weights[0]\n",
    "                if summation > 0:\n",
    "              #activation = 1\n",
    "                    plabel.append(1)\n",
    "                else:\n",
    "                    #activation = 0\n",
    "                    plabel.append(0)\n",
    "\n",
    "            return plabel\n",
    "\n",
    "    def train(self, training_inputs, labels):\n",
    "        for _ in range(self.threshold):\n",
    "            for inputs, label in zip(training_inputs, labels):\n",
    "                prediction = self.predict(inputs)\n",
    "                self.weights[1:] += self.learning_rate * (label - prediction) * inputs\n",
    "                self.weights[0] += self.learning_rate * (label - prediction)"
   ]
  },
  {
   "cell_type": "code",
   "execution_count": 57,
   "metadata": {},
   "outputs": [
    {
     "name": "stdout",
     "output_type": "stream",
     "text": [
      "Accuracy of the perceptron is 0.5\n"
     ]
    }
   ],
   "source": [
    "# make a prediction with a perceptron model on the dataset\n",
    "from sklearn.datasets import make_classification\n",
    "\n",
    "# define training dataset\n",
    "X_train, y_train = make_classification(n_samples=1000, n_features=10, n_informative=10, n_redundant=0, random_state=1)\n",
    "\n",
    "# define model\n",
    "model = Perceptron(X_train.shape[1])\n",
    "\n",
    "# train the  model\n",
    "model.train(X_train, y_train)\n",
    "\n",
    "# define test data inputs\n",
    "X_test, y_test = make_classification(n_samples=100, n_features=10, n_informative=10, n_redundant=0, random_state=1)\n",
    "\n",
    "# make a prediction\n",
    "yhat = model.predict(X_test)\n",
    "\n",
    "# check model accuracy\n",
    "print(f\"Accuracy of the perceptron is {(sum(np.abs(yhat-y_test)))/y_test.shape[0]}\")#print('Predicted Class: %d' % yhat)"
   ]
  },
  {
   "cell_type": "code",
   "execution_count": 60,
   "metadata": {},
   "outputs": [
    {
     "name": "stdout",
     "output_type": "stream",
     "text": [
      "[-0.2  0.2  0.1]\n"
     ]
    }
   ],
   "source": [
    "X = np.array([\n",
    "        [0, 0],\n",
    "        [0, 1],\n",
    "        [1, 0],\n",
    "        [1, 1]\n",
    "    ])\n",
    "d = np.array([0, 0, 0, 1])\n",
    " \n",
    "perceptron = Perceptron(2)\n",
    "perceptron.train(X, d)\n",
    "print(perceptron.weights)"
   ]
  },
  {
   "cell_type": "code",
   "execution_count": null,
   "metadata": {},
   "outputs": [],
   "source": []
  }
 ],
 "metadata": {
  "kernelspec": {
   "display_name": "Python 3",
   "language": "python",
   "name": "python3"
  },
  "language_info": {
   "codemirror_mode": {
    "name": "ipython",
    "version": 3
   },
   "file_extension": ".py",
   "mimetype": "text/x-python",
   "name": "python",
   "nbconvert_exporter": "python",
   "pygments_lexer": "ipython3",
   "version": "3.7.3"
  }
 },
 "nbformat": 4,
 "nbformat_minor": 2
}
