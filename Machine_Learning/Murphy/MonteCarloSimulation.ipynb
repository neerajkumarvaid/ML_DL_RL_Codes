{
  "nbformat": 4,
  "nbformat_minor": 0,
  "metadata": {
    "colab": {
      "name": "MonteCarloSimulation.ipynb",
      "provenance": [],
      "authorship_tag": "ABX9TyPmW79Zavz6lGMOQnMjkUoK",
      "include_colab_link": true
    },
    "kernelspec": {
      "name": "python3",
      "display_name": "Python 3"
    },
    "language_info": {
      "name": "python"
    }
  },
  "cells": [
    {
      "cell_type": "markdown",
      "metadata": {
        "id": "view-in-github",
        "colab_type": "text"
      },
      "source": [
        "<a href=\"https://colab.research.google.com/github/neerajkumarvaid/ML_DL_RL_Codes/blob/master/Machine_Learning/Murphy/MonteCarloSimulation.ipynb\" target=\"_parent\"><img src=\"https://colab.research.google.com/assets/colab-badge.svg\" alt=\"Open In Colab\"/></a>"
      ]
    },
    {
      "cell_type": "markdown",
      "metadata": {
        "id": "btSLESIvX3JX"
      },
      "source": [
        "Monte Carlo Simulation\n",
        "\n",
        "To estimate the $pdf$ of $y = x^{2}$, where $x \\sim U(0,1)$, (1) sample enough values of $x$, (2) square each value of $x$, and compute the approximate distribution (or histogram) of $y$. "
      ]
    },
    {
      "cell_type": "code",
      "metadata": {
        "colab": {
          "base_uri": "https://localhost:8080/",
          "height": 282
        },
        "id": "dyA3yiUEX2Cn",
        "outputId": "83900fa1-c1ca-4af6-d913-e0779798f544"
      },
      "source": [
        "# Monte Carlo Simulation\n",
        "\n",
        "from scipy.stats import uniform\n",
        "import numpy as np\n",
        "import matplotlib.pyplot as plt\n",
        "\n",
        "x = np.linspace(0,1,100)\n",
        "N = 1000 # draw 100 points from uniform distribution\n",
        "\n",
        "sampled_points = uniform.rvs(size=N)\n",
        "\n",
        "y = [a*a for a in sampled_points] # compute y = x^2 for every value of x\n",
        "\n",
        "fig, ax = plt.subplots(1, 1)\n",
        "ax.plot(x, uniform.pdf(x),\n",
        "       'r-', lw=5, alpha=0.6, label='uniform pdf')\n",
        "ax.hist(y, density=True, histtype='stepfilled', alpha=0.5, label = 'y = x*x')\n",
        "ax.legend( loc='best', frameon=False)\n"
      ],
      "execution_count": 1,
      "outputs": [
        {
          "output_type": "execute_result",
          "data": {
            "text/plain": [
              "<matplotlib.legend.Legend at 0x7f4122231a10>"
            ]
          },
          "metadata": {
            "tags": []
          },
          "execution_count": 1
        },
        {
          "output_type": "display_data",
          "data": {
            "image/png": "[encoded data removed]",
            "text/plain": [
              "<Figure size 432x288 with 1 Axes>"
            ]
          },
          "metadata": {
            "tags": [],
            "needs_background": "light"
          }
        }
      ]
    }
  ]
}