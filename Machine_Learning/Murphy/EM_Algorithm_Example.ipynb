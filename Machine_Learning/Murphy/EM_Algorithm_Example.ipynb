{
  "nbformat": 4,
  "nbformat_minor": 0,
  "metadata": {
    "colab": {
      "name": "EM Algorithm Example.ipynb",
      "provenance": [],
      "authorship_tag": "ABX9TyPJgC6QLlMJnmrRZMEnVHHh",
      "include_colab_link": true
    },
    "kernelspec": {
      "name": "python3",
      "display_name": "Python 3"
    },
    "language_info": {
      "name": "python"
    }
  },
  "cells": [
    {
      "cell_type": "markdown",
      "metadata": {
        "id": "view-in-github",
        "colab_type": "text"
      },
      "source": [
        "<a href=\"https://colab.research.google.com/github/neerajkumarvaid/ML_DL_RL_Codes/blob/master/Machine_Learning/Murphy/EM_Algorithm_Example.ipynb\" target=\"_parent\"><img src=\"https://colab.research.google.com/assets/colab-badge.svg\" alt=\"Open In Colab\"/></a>"
      ]
    },
    {
      "cell_type": "markdown",
      "source": [
        "Expectation-Maximization Algorithm Example\n",
        "https://ai.stanford.edu/~chuongdo/papers/em_tutorial.pdf"
      ],
      "metadata": {
        "id": "8IzXB019DJXL"
      }
    },
    {
      "cell_type": "code",
      "source": [
        "import numpy as np\n",
        "import math\n",
        "import matplotlib.pyplot as plt"
      ],
      "metadata": {
        "id": "_Qjucdie_req"
      },
      "execution_count": 1,
      "outputs": []
    },
    {
      "cell_type": "code",
      "source": [
        "# 1st:  Coin B, {HTTTHHTHTH}, 5H,5T\n",
        "# 2nd:  Coin A, {HHHHTHHHHH}, 9H,1T\n",
        "# 3rd:  Coin A, {HTHHHHHTHH}, 8H,2T\n",
        "# 4th:  Coin B, {HTHTTTHHTT}, 4H,6T\n",
        "# 5th:  Coin A, {THHHTHHHTH}, 7H,3T\n",
        "# so, from MLE: pA(heads) = 0.80 and pB(heads)=0.45\n",
        "\n",
        "# represent the experiments\n",
        "head_counts = np.array([5,9,8,4,7])\n",
        "tail_counts = 10-head_counts\n",
        "experiments = list(zip(head_counts,tail_counts))"
      ],
      "metadata": {
        "id": "lYTaGCsD_r1f"
      },
      "execution_count": 10,
      "outputs": []
    },
    {
      "cell_type": "code",
      "source": [
        "print(list(experiments))"
      ],
      "metadata": {
        "colab": {
          "base_uri": "https://localhost:8080/"
        },
        "id": "Td27pQiVAF1r",
        "outputId": "8e88e607-8766-4a0e-e236-1bfc90b5c9af"
      },
      "execution_count": 5,
      "outputs": [
        {
          "output_type": "stream",
          "name": "stdout",
          "text": [
            "[(5, 5), (9, 1), (8, 2), (4, 6), (7, 3)]\n"
          ]
        }
      ]
    },
    {
      "cell_type": "code",
      "source": [
        "def get_binomial_log_likelihood(obs,probs):\n",
        "    \"\"\" Return the (log)likelihood of obs, given the probs\"\"\"\n",
        "    # Binomial Distribution Log PDF\n",
        "    # ln (pdf)      = Binomial Coeff * product of probabilities\n",
        "    # ln[f(x|n, p)] =   comb(N,k)    * num_heads*ln(pH) + (N-num_heads) * ln(1-pH)\n",
        "\n",
        "    N = sum(obs);#number of trials  \n",
        "    k = obs[0] # number of heads\n",
        "    binomial_coeff = math.factorial(N) / (math.factorial(N-k) * math.factorial(k))\n",
        "    prod_probs = obs[0]*math.log(probs[0]) + obs[1]*math.log(1-probs[0])\n",
        "    log_lik = binomial_coeff + prod_probs\n",
        "\n",
        "    return log_lik"
      ],
      "metadata": {
        "id": "-bZbuSH4A8EK"
      },
      "execution_count": 8,
      "outputs": []
    },
    {
      "cell_type": "code",
      "source": [
        "# initialise the pA(heads) and pB(heads)\n",
        "pA_heads = np.zeros(100) # 100 zero values\n",
        "pA_heads[0] = 0.60 #initial value\n",
        "pB_heads = np.zeros(100); pB_heads[0] = 0.50"
      ],
      "metadata": {
        "id": "YA19KXUAAH1Y"
      },
      "execution_count": 6,
      "outputs": []
    },
    {
      "cell_type": "code",
      "source": [
        "# E-M begins!\n",
        "\n",
        "# initial values for loop termination\n",
        "delta = 0.001  \n",
        "j = 0 # iteration counter\n",
        "improvement = float('inf')"
      ],
      "metadata": {
        "id": "OCgCGpBgAgEo"
      },
      "execution_count": 7,
      "outputs": []
    },
    {
      "cell_type": "code",
      "source": [
        "while (improvement>delta):\n",
        "    expectation_A = np.zeros((len(experiments),2), dtype=float) \n",
        "    expectation_B = np.zeros((len(experiments),2), dtype=float)\n",
        "    for i in range(0,len(experiments)):\n",
        "        e = experiments[i] # i'th experiment\n",
        "          # loglikelihood of e given coin A:\n",
        "        ll_A = get_binomial_log_likelihood(e,np.array([pA_heads[j],1-pA_heads[j]])) \n",
        "          # loglikelihood of e given coin B\n",
        "        ll_B = get_binomial_log_likelihood(e,np.array([pB_heads[j],1-pB_heads[j]])) \n",
        "\n",
        "          # corresponding weight of A proportional to likelihood of A \n",
        "        weightA = math.exp(ll_A) / ( math.exp(ll_A) + math.exp(ll_B) ) \n",
        "\n",
        "          # corresponding weight of B proportional to likelihood of B\n",
        "        weightB = math.exp(ll_B) / ( math.exp(ll_A) + math.exp(ll_B) ) \n",
        "\n",
        "        expectation_A[i] = np.dot(weightA, e) \n",
        "        expectation_B[i] = np.dot(weightB, e)\n",
        "    \n",
        "    pA_heads[j+1] = sum(expectation_A)[0] / sum(sum(expectation_A)); \n",
        "    pB_heads[j+1] = sum(expectation_B)[0] / sum(sum(expectation_B)); \n",
        "\n",
        "    improvement = ( max( abs(np.array([pA_heads[j+1],pB_heads[j+1]]) - \n",
        "                    np.array([pA_heads[j],pB_heads[j]]) )) )\n",
        "    j = j+1"
      ],
      "metadata": {
        "id": "m4YrZoFnAqU-"
      },
      "execution_count": 12,
      "outputs": []
    },
    {
      "cell_type": "code",
      "source": [
        "pB_heads"
      ],
      "metadata": {
        "colab": {
          "base_uri": "https://localhost:8080/"
        },
        "id": "W_246CP9Cp3L",
        "outputId": "6b813739-4bcf-4201-d8a7-5a29ed53ea11"
      },
      "execution_count": 19,
      "outputs": [
        {
          "output_type": "execute_result",
          "data": {
            "text/plain": [
              "array([0.5       , 0.58133931, 0.56925575, 0.54953591, 0.53461745,\n",
              "       0.52628117, 0.52239044, 0.52072988, 0.52004719, 0.        ,\n",
              "       0.        , 0.        , 0.        , 0.        , 0.        ,\n",
              "       0.        , 0.        , 0.        , 0.        , 0.        ,\n",
              "       0.        , 0.        , 0.        , 0.        , 0.        ,\n",
              "       0.        , 0.        , 0.        , 0.        , 0.        ,\n",
              "       0.        , 0.        , 0.        , 0.        , 0.        ,\n",
              "       0.        , 0.        , 0.        , 0.        , 0.        ,\n",
              "       0.        , 0.        , 0.        , 0.        , 0.        ,\n",
              "       0.        , 0.        , 0.        , 0.        , 0.        ,\n",
              "       0.        , 0.        , 0.        , 0.        , 0.        ,\n",
              "       0.        , 0.        , 0.        , 0.        , 0.        ,\n",
              "       0.        , 0.        , 0.        , 0.        , 0.        ,\n",
              "       0.        , 0.        , 0.        , 0.        , 0.        ,\n",
              "       0.        , 0.        , 0.        , 0.        , 0.        ,\n",
              "       0.        , 0.        , 0.        , 0.        , 0.        ,\n",
              "       0.        , 0.        , 0.        , 0.        , 0.        ,\n",
              "       0.        , 0.        , 0.        , 0.        , 0.        ,\n",
              "       0.        , 0.        , 0.        , 0.        , 0.        ,\n",
              "       0.        , 0.        , 0.        , 0.        , 0.        ])"
            ]
          },
          "metadata": {},
          "execution_count": 19
        }
      ]
    },
    {
      "cell_type": "code",
      "source": [
        "plt.figure();\n",
        "plt.plot(range(0,j),pA_heads[0:j], 'r--')\n",
        "plt.plot(range(0,j),pB_heads[0:j])\n",
        "plt.show()"
      ],
      "metadata": {
        "colab": {
          "base_uri": "https://localhost:8080/",
          "height": 265
        },
        "id": "szLoJ707A9Zh",
        "outputId": "619069fc-d93c-4ed1-bea6-0e7d8b617adc"
      },
      "execution_count": 17,
      "outputs": [
        {
          "output_type": "display_data",
          "data": {
            "text/plain": [
              "<Figure size 432x288 with 1 Axes>"
            ],
            "image/png": "[encoded data removed]"
          },
          "metadata": {
            "needs_background": "light"
          }
        }
      ]
    }
  ]
}