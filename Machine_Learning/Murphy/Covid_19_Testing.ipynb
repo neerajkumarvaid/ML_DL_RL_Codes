{
  "nbformat": 4,
  "nbformat_minor": 0,
  "metadata": {
    "colab": {
      "name": "Covid_19_Testing.ipynb",
      "provenance": [],
      "authorship_tag": "ABX9TyPT5pMsRh2HQGuHu2SPTacD",
      "include_colab_link": true
    },
    "kernelspec": {
      "name": "python3",
      "display_name": "Python 3"
    },
    "language_info": {
      "name": "python"
    }
  },
  "cells": [
    {
      "cell_type": "markdown",
      "metadata": {
        "id": "view-in-github",
        "colab_type": "text"
      },
      "source": [
        "<a href=\"https://colab.research.google.com/github/neerajkumarvaid/ML_DL_RL_Codes/blob/master/Machine_Learning/Murphy/Covid_19_Testing.ipynb\" target=\"_parent\"><img src=\"https://colab.research.google.com/assets/colab-badge.svg\" alt=\"Open In Colab\"/></a>"
      ]
    },
    {
      "cell_type": "markdown",
      "metadata": {
        "id": "IQwrcJJQg9jP"
      },
      "source": [
        "## 2.3.1 Example: Bayes rule for COVID diagnosis\n",
        "\n",
        "Consider estimating if someone has COVID $H=1$ or not $H=0$ on the basis of a PCR test. The test can either return a positive result $Y=1$ or a negative result $Y=0$. The reliability of the test is given by the following observation model.\n",
        "\n",
        "p(Y = 1 | H = 1) = True Positive Rate (TPR) = Sensitivity\n",
        "\n",
        "P(Y = 0 | H = 0) = True Negative Rate (TNR) = Specificity\n",
        "\n",
        "P(Y = 1 | H = 0) = False Positive Rate (FPR) = 1-TNR\n",
        "\n",
        "P(Y = 0 | H = 1) = Fals Negative Rate (FNR) = 1-TPR\n"
      ]
    },
    {
      "cell_type": "markdown",
      "metadata": {
        "id": "3c6m6LPQiYTK"
      },
      "source": [
        "Using data from https://www.nytimes.com/2020/08/04/science/coronavirus-bayes-statistics-math.html, we set sensitivity to 87.5% and the specificity to 97.5%.\n",
        "\n",
        "We also need to specify the prior probability  𝑝(𝐻=1) ; this is known as the prevalence. This varies over time and place, but let's pick  𝑝(𝐻=1)=0.1  as a reasonable estimate."
      ]
    },
    {
      "cell_type": "markdown",
      "metadata": {
        "id": "aj7_VdaviczY"
      },
      "source": [
        "If you test positive $(Y = 1)$, then your probability of being actually infected $(p(H = 1 | Y = 1)$ is:\n",
        "\n",
        "\\begin{align}\n",
        "p(H=1|Y=1) \n",
        " &= \\frac{p(Y=1|H=1) p(H=1)}\n",
        "{p(Y=1|H=1) p(H=1) + p(Y=1|H=0) p(H=0)}\n",
        "= 0.795\n",
        "\\end{align}\n",
        "\n",
        "If you test negative $(Y = 0)$, then your probability of being actually infected $(p(H = 1 | Y = 0)$ is:\n",
        "\n",
        "\\begin{align}\n",
        "p(H=1|Y=0) \n",
        " &= \\frac{p(Y=0|H=1) p(H=1)}\n",
        "{p(Y=0|H=1) p(H=1) + p(Y=0|H=0) p(H=0)}\n",
        "=0.014\n",
        "\\end{align}"
      ]
    },
    {
      "cell_type": "code",
      "metadata": {
        "id": "Nq6lULYziRXI"
      },
      "source": [
        "import numpy as np\n",
        "\n",
        "\n",
        "def posterior_covid(observed, prevalence = None, sensitivity =  None):\n",
        "  \"\"\" observed = 0 for negative test and observed = 1 for positive test\n",
        "  hidden state = 0 for no covid and hidden state = 1 for covid\"\"\"\n",
        "  if sensitivity is None:\n",
        "    sensitivity = 0.875\n",
        "  specificity = 0.975\n",
        "\n",
        "  TPR = sensitivity\n",
        "  TNR = specificity\n",
        "  FPR = 1 - TNR\n",
        "  FNR = 1 - TPR\n",
        "\n",
        "  # likelihood(hidden, observed)\n",
        "  likelihood_fn = np.array([[TNR, FPR],[FNR, TPR]]) # 2x2 matrix where test results are on x - axis and ground-truth on y-axis\n",
        "\n",
        "  # prior\n",
        "  if prevalence is None:\n",
        "    prevalence = 0.1\n",
        "\n",
        "  prior = np.array([1-prevalence, prevalence])\n",
        "\n",
        "  likelihood = likelihood_fn[:,observed].T # select the column from likelihood function that corresponds to observation\n",
        "\n",
        "  x = prior*likelihood\n",
        "\n",
        "  posterior = x/np.sum(x)\n",
        "\n",
        "  return posterior\n",
        "\n"
      ],
      "execution_count": 35,
      "outputs": []
    },
    {
      "cell_type": "markdown",
      "metadata": {
        "id": "ggEaxjFBoLXQ"
      },
      "source": [
        "For prevalence of $p(H = 1) = 0.1$\n",
        "\n",
        "\n"
      ]
    },
    {
      "cell_type": "code",
      "metadata": {
        "colab": {
          "base_uri": "https://localhost:8080/"
        },
        "id": "fnH8lmbWlUzS",
        "outputId": "f913a85c-5b98-4096-aaef-0adbe5aa5acb"
      },
      "source": [
        "print(f\"Chances that you are infected given the test result is positive is {posterior_covid(observed = 1)[1]*100}\")\n",
        "print(f\"Chances that you are infected given the test result is negative is {posterior_covid(observed = 0)[1]*100}\")\n"
      ],
      "execution_count": 43,
      "outputs": [
        {
          "output_type": "stream",
          "text": [
            "Chances that you are infected given the test result is positive is 79.54545454545453\n",
            "Chances that you are infected given the test result is negative is 1.4044943820224722\n"
          ],
          "name": "stdout"
        }
      ]
    },
    {
      "cell_type": "markdown",
      "metadata": {
        "id": "WeuA4pnuo-Q7"
      },
      "source": [
        "For prevalence of $p(H = 1) = 0.1$"
      ]
    },
    {
      "cell_type": "code",
      "metadata": {
        "colab": {
          "base_uri": "https://localhost:8080/"
        },
        "id": "dJey0MXTn8em",
        "outputId": "76bd9c85-137a-4c2e-873a-53722f411012"
      },
      "source": [
        "print(f\"Chances that you are infected given the test result is positive is {posterior_covid(observed = 1, prevalence=0.01)[1]*100}\")\n",
        "print(f\"Chances that you are infected given the test result is negative is {posterior_covid(observed = 0, prevalence=0.01)[1]*100}\")"
      ],
      "execution_count": 46,
      "outputs": [
        {
          "output_type": "stream",
          "text": [
            "Chances that you are infected given the test result is positive is 26.119402985074615\n",
            "Chances that you are infected given the test result is negative is 0.12933264355923438\n"
          ],
          "name": "stdout"
        }
      ]
    }
  ]
}