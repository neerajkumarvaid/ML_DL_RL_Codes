{
  "nbformat": 4,
  "nbformat_minor": 0,
  "metadata": {
    "colab": {
      "name": "Correlation.ipynb",
      "provenance": [],
      "authorship_tag": "ABX9TyOyeljHEd1BPZElt+qTpVz1",
      "include_colab_link": true
    },
    "kernelspec": {
      "name": "python3",
      "display_name": "Python 3"
    },
    "language_info": {
      "name": "python"
    }
  },
  "cells": [
    {
      "cell_type": "markdown",
      "metadata": {
        "id": "view-in-github",
        "colab_type": "text"
      },
      "source": [
        "<a href=\"https://colab.research.google.com/github/neerajkumarvaid/ML_DL_RL_Codes/blob/master/Machine_Learning/Murphy/Correlation.ipynb\" target=\"_parent\"><img src=\"https://colab.research.google.com/assets/colab-badge.svg\" alt=\"Open In Colab\"/></a>"
      ]
    },
    {
      "cell_type": "markdown",
      "metadata": {
        "id": "Epyq84kDoGIZ"
      },
      "source": [
        "\n",
        "Load the concrete strength data as a Pandas dataframe.\n",
        "\n"
      ]
    },
    {
      "cell_type": "code",
      "metadata": {
        "colab": {
          "base_uri": "https://localhost:8080/",
          "height": 473
        },
        "id": "xwrR3sBDn93S",
        "outputId": "c2aa750c-18e9-4876-dc87-708a0cdbbe08"
      },
      "source": [
        "import pandas as pd\n",
        "con = pd.read_csv('ConcreteStrength_Data.csv')\n",
        "con"
      ],
      "execution_count": 2,
      "outputs": [
        {
          "output_type": "execute_result",
          "data": {
            "text/html": [
              "<div>\n",
              "<style scoped>\n",
              "    .dataframe tbody tr th:only-of-type {\n",
              "        vertical-align: middle;\n",
              "    }\n",
              "\n",
              "    .dataframe tbody tr th {\n",
              "        vertical-align: top;\n",
              "    }\n",
              "\n",
              "    .dataframe thead th {\n",
              "        text-align: right;\n",
              "    }\n",
              "</style>\n",
              "<table border=\"1\" class=\"dataframe\">\n",
              "  <thead>\n",
              "    <tr style=\"text-align: right;\">\n",
              "      <th></th>\n",
              "      <th>No</th>\n",
              "      <th>Cement</th>\n",
              "      <th>Slag</th>\n",
              "      <th>Fly Ash</th>\n",
              "      <th>Water</th>\n",
              "      <th>Superplasticizer (SP)</th>\n",
              "      <th>Coarse Aggregate</th>\n",
              "      <th>Fine Aggregate</th>\n",
              "      <th>Age (day)</th>\n",
              "      <th>Concrete compressive strength(Mpa)</th>\n",
              "    </tr>\n",
              "  </thead>\n",
              "  <tbody>\n",
              "    <tr>\n",
              "      <th>0</th>\n",
              "      <td>1</td>\n",
              "      <td>540.0</td>\n",
              "      <td>0.0</td>\n",
              "      <td>0.0</td>\n",
              "      <td>162.0</td>\n",
              "      <td>2.5</td>\n",
              "      <td>1040.0</td>\n",
              "      <td>676.0</td>\n",
              "      <td>28</td>\n",
              "      <td>79.99</td>\n",
              "    </tr>\n",
              "    <tr>\n",
              "      <th>1</th>\n",
              "      <td>2</td>\n",
              "      <td>540.0</td>\n",
              "      <td>0.0</td>\n",
              "      <td>0.0</td>\n",
              "      <td>162.0</td>\n",
              "      <td>2.5</td>\n",
              "      <td>1055.0</td>\n",
              "      <td>676.0</td>\n",
              "      <td>28</td>\n",
              "      <td>61.89</td>\n",
              "    </tr>\n",
              "    <tr>\n",
              "      <th>2</th>\n",
              "      <td>3</td>\n",
              "      <td>332.5</td>\n",
              "      <td>142.5</td>\n",
              "      <td>0.0</td>\n",
              "      <td>228.0</td>\n",
              "      <td>0.0</td>\n",
              "      <td>932.0</td>\n",
              "      <td>594.0</td>\n",
              "      <td>270</td>\n",
              "      <td>40.27</td>\n",
              "    </tr>\n",
              "    <tr>\n",
              "      <th>3</th>\n",
              "      <td>4</td>\n",
              "      <td>332.5</td>\n",
              "      <td>142.5</td>\n",
              "      <td>0.0</td>\n",
              "      <td>228.0</td>\n",
              "      <td>0.0</td>\n",
              "      <td>932.0</td>\n",
              "      <td>594.0</td>\n",
              "      <td>365</td>\n",
              "      <td>41.05</td>\n",
              "    </tr>\n",
              "    <tr>\n",
              "      <th>4</th>\n",
              "      <td>5</td>\n",
              "      <td>198.6</td>\n",
              "      <td>132.4</td>\n",
              "      <td>0.0</td>\n",
              "      <td>192.0</td>\n",
              "      <td>0.0</td>\n",
              "      <td>978.4</td>\n",
              "      <td>825.5</td>\n",
              "      <td>360</td>\n",
              "      <td>44.30</td>\n",
              "    </tr>\n",
              "    <tr>\n",
              "      <th>...</th>\n",
              "      <td>...</td>\n",
              "      <td>...</td>\n",
              "      <td>...</td>\n",
              "      <td>...</td>\n",
              "      <td>...</td>\n",
              "      <td>...</td>\n",
              "      <td>...</td>\n",
              "      <td>...</td>\n",
              "      <td>...</td>\n",
              "      <td>...</td>\n",
              "    </tr>\n",
              "    <tr>\n",
              "      <th>1025</th>\n",
              "      <td>1026</td>\n",
              "      <td>276.4</td>\n",
              "      <td>116.0</td>\n",
              "      <td>90.3</td>\n",
              "      <td>179.6</td>\n",
              "      <td>8.9</td>\n",
              "      <td>870.1</td>\n",
              "      <td>768.3</td>\n",
              "      <td>28</td>\n",
              "      <td>44.28</td>\n",
              "    </tr>\n",
              "    <tr>\n",
              "      <th>1026</th>\n",
              "      <td>1027</td>\n",
              "      <td>322.2</td>\n",
              "      <td>0.0</td>\n",
              "      <td>115.6</td>\n",
              "      <td>196.0</td>\n",
              "      <td>10.4</td>\n",
              "      <td>817.9</td>\n",
              "      <td>813.4</td>\n",
              "      <td>28</td>\n",
              "      <td>31.18</td>\n",
              "    </tr>\n",
              "    <tr>\n",
              "      <th>1027</th>\n",
              "      <td>1028</td>\n",
              "      <td>148.5</td>\n",
              "      <td>139.4</td>\n",
              "      <td>108.6</td>\n",
              "      <td>192.7</td>\n",
              "      <td>6.1</td>\n",
              "      <td>892.4</td>\n",
              "      <td>780.0</td>\n",
              "      <td>28</td>\n",
              "      <td>23.70</td>\n",
              "    </tr>\n",
              "    <tr>\n",
              "      <th>1028</th>\n",
              "      <td>1029</td>\n",
              "      <td>159.1</td>\n",
              "      <td>186.7</td>\n",
              "      <td>0.0</td>\n",
              "      <td>175.6</td>\n",
              "      <td>11.3</td>\n",
              "      <td>989.6</td>\n",
              "      <td>788.9</td>\n",
              "      <td>28</td>\n",
              "      <td>32.77</td>\n",
              "    </tr>\n",
              "    <tr>\n",
              "      <th>1029</th>\n",
              "      <td>1030</td>\n",
              "      <td>260.9</td>\n",
              "      <td>100.5</td>\n",
              "      <td>78.3</td>\n",
              "      <td>200.6</td>\n",
              "      <td>8.6</td>\n",
              "      <td>864.5</td>\n",
              "      <td>761.5</td>\n",
              "      <td>28</td>\n",
              "      <td>32.40</td>\n",
              "    </tr>\n",
              "  </tbody>\n",
              "</table>\n",
              "<p>1030 rows × 10 columns</p>\n",
              "</div>"
            ],
            "text/plain": [
              "        No  Cement  ...  Age (day)  Concrete compressive strength(Mpa)\n",
              "0        1   540.0  ...         28                               79.99\n",
              "1        2   540.0  ...         28                               61.89\n",
              "2        3   332.5  ...        270                               40.27\n",
              "3        4   332.5  ...        365                               41.05\n",
              "4        5   198.6  ...        360                               44.30\n",
              "...    ...     ...  ...        ...                                 ...\n",
              "1025  1026   276.4  ...         28                               44.28\n",
              "1026  1027   322.2  ...         28                               31.18\n",
              "1027  1028   148.5  ...         28                               23.70\n",
              "1028  1029   159.1  ...         28                               32.77\n",
              "1029  1030   260.9  ...         28                               32.40\n",
              "\n",
              "[1030 rows x 10 columns]"
            ]
          },
          "metadata": {
            "tags": []
          },
          "execution_count": 2
        }
      ]
    },
    {
      "cell_type": "markdown",
      "metadata": {
        "id": "VXOTXx8bx2db"
      },
      "source": [
        "Remove the \"No\" column."
      ]
    },
    {
      "cell_type": "code",
      "metadata": {
        "id": "0bbsi8yfx5-I"
      },
      "source": [
        "con = con.drop(columns='No')"
      ],
      "execution_count": 26,
      "outputs": []
    },
    {
      "cell_type": "markdown",
      "metadata": {
        "id": "psdCig02oR_0"
      },
      "source": [
        "Rename the columns to have shorter names."
      ]
    },
    {
      "cell_type": "code",
      "metadata": {
        "colab": {
          "base_uri": "https://localhost:8080/"
        },
        "id": "YXCYTqDroJ1Y",
        "outputId": "1a5db0fb-8632-456d-fc27-a6c90f1f7daa"
      },
      "source": [
        "list(con.columns)"
      ],
      "execution_count": 27,
      "outputs": [
        {
          "output_type": "execute_result",
          "data": {
            "text/plain": [
              "['Cement',\n",
              " 'Slag',\n",
              " 'FlyAsh',\n",
              " 'Water',\n",
              " 'SP',\n",
              " 'CoarseAgg',\n",
              " 'FineAgg',\n",
              " 'Age',\n",
              " 'Strength']"
            ]
          },
          "metadata": {
            "tags": []
          },
          "execution_count": 27
        }
      ]
    },
    {
      "cell_type": "code",
      "metadata": {
        "colab": {
          "base_uri": "https://localhost:8080/",
          "height": 204
        },
        "id": "rBJbbFj9oXCw",
        "outputId": "3f98461f-b3f4-4a67-b156-5e2b09aec4d7"
      },
      "source": [
        "con.rename(columns={'Fly Ash': 'FlyAsh', 'Coarse Aggregate ': \"CoarseAgg\",\n",
        "                    'Fine Aggregate': 'FineAgg', 'Superplasticizer (SP)': 'SP',\n",
        "                    'Age (day)': 'Age',\n",
        "                    'Concrete compressive strength(Mpa)': 'Strength'}, inplace=True)\n",
        "con.head()"
      ],
      "execution_count": 28,
      "outputs": [
        {
          "output_type": "execute_result",
          "data": {
            "text/html": [
              "<div>\n",
              "<style scoped>\n",
              "    .dataframe tbody tr th:only-of-type {\n",
              "        vertical-align: middle;\n",
              "    }\n",
              "\n",
              "    .dataframe tbody tr th {\n",
              "        vertical-align: top;\n",
              "    }\n",
              "\n",
              "    .dataframe thead th {\n",
              "        text-align: right;\n",
              "    }\n",
              "</style>\n",
              "<table border=\"1\" class=\"dataframe\">\n",
              "  <thead>\n",
              "    <tr style=\"text-align: right;\">\n",
              "      <th></th>\n",
              "      <th>Cement</th>\n",
              "      <th>Slag</th>\n",
              "      <th>FlyAsh</th>\n",
              "      <th>Water</th>\n",
              "      <th>SP</th>\n",
              "      <th>CoarseAgg</th>\n",
              "      <th>FineAgg</th>\n",
              "      <th>Age</th>\n",
              "      <th>Strength</th>\n",
              "    </tr>\n",
              "  </thead>\n",
              "  <tbody>\n",
              "    <tr>\n",
              "      <th>0</th>\n",
              "      <td>540.0</td>\n",
              "      <td>0.0</td>\n",
              "      <td>0.0</td>\n",
              "      <td>162.0</td>\n",
              "      <td>2.5</td>\n",
              "      <td>1040.0</td>\n",
              "      <td>676.0</td>\n",
              "      <td>28</td>\n",
              "      <td>79.99</td>\n",
              "    </tr>\n",
              "    <tr>\n",
              "      <th>1</th>\n",
              "      <td>540.0</td>\n",
              "      <td>0.0</td>\n",
              "      <td>0.0</td>\n",
              "      <td>162.0</td>\n",
              "      <td>2.5</td>\n",
              "      <td>1055.0</td>\n",
              "      <td>676.0</td>\n",
              "      <td>28</td>\n",
              "      <td>61.89</td>\n",
              "    </tr>\n",
              "    <tr>\n",
              "      <th>2</th>\n",
              "      <td>332.5</td>\n",
              "      <td>142.5</td>\n",
              "      <td>0.0</td>\n",
              "      <td>228.0</td>\n",
              "      <td>0.0</td>\n",
              "      <td>932.0</td>\n",
              "      <td>594.0</td>\n",
              "      <td>270</td>\n",
              "      <td>40.27</td>\n",
              "    </tr>\n",
              "    <tr>\n",
              "      <th>3</th>\n",
              "      <td>332.5</td>\n",
              "      <td>142.5</td>\n",
              "      <td>0.0</td>\n",
              "      <td>228.0</td>\n",
              "      <td>0.0</td>\n",
              "      <td>932.0</td>\n",
              "      <td>594.0</td>\n",
              "      <td>365</td>\n",
              "      <td>41.05</td>\n",
              "    </tr>\n",
              "    <tr>\n",
              "      <th>4</th>\n",
              "      <td>198.6</td>\n",
              "      <td>132.4</td>\n",
              "      <td>0.0</td>\n",
              "      <td>192.0</td>\n",
              "      <td>0.0</td>\n",
              "      <td>978.4</td>\n",
              "      <td>825.5</td>\n",
              "      <td>360</td>\n",
              "      <td>44.30</td>\n",
              "    </tr>\n",
              "  </tbody>\n",
              "</table>\n",
              "</div>"
            ],
            "text/plain": [
              "   Cement   Slag  FlyAsh  Water   SP  CoarseAgg  FineAgg  Age  Strength\n",
              "0   540.0    0.0     0.0  162.0  2.5     1040.0    676.0   28     79.99\n",
              "1   540.0    0.0     0.0  162.0  2.5     1055.0    676.0   28     61.89\n",
              "2   332.5  142.5     0.0  228.0  0.0      932.0    594.0  270     40.27\n",
              "3   332.5  142.5     0.0  228.0  0.0      932.0    594.0  365     41.05\n",
              "4   198.6  132.4     0.0  192.0  0.0      978.4    825.5  360     44.30"
            ]
          },
          "metadata": {
            "tags": []
          },
          "execution_count": 28
        }
      ]
    },
    {
      "cell_type": "markdown",
      "metadata": {
        "id": "sMlncxtxpKL8"
      },
      "source": [
        "Let us scatterplot the flyash and strenght variables to visualize if there is a correlation between these two variables."
      ]
    },
    {
      "cell_type": "code",
      "metadata": {
        "colab": {
          "base_uri": "https://localhost:8080/",
          "height": 295
        },
        "id": "S4bf7zgEom4F",
        "outputId": "834db2e5-1f52-4292-9f41-658d2f4ab252"
      },
      "source": [
        "import seaborn as sns\n",
        "ax = sns.scatterplot(x=\"FlyAsh\", y=\"Strength\", data=con)\n",
        "ax.set_title(\"Concrete Strength vs. Fly ash\")\n",
        "ax.set_xlabel(\"Fly ash\");"
      ],
      "execution_count": 29,
      "outputs": [
        {
          "output_type": "display_data",
          "data": {
            "image/png": "[encoded data removed]",
            "text/plain": [
              "<Figure size 432x288 with 1 Axes>"
            ]
          },
          "metadata": {
            "tags": [],
            "needs_background": "light"
          }
        }
      ]
    },
    {
      "cell_type": "markdown",
      "metadata": {
        "id": "wyglsJoYpwRG"
      },
      "source": [
        "**Correlation Coefficient**\n",
        "A correlation coefficient (typically denoted r) is a single number that describes the extent of the linear relationship between two variables. \n",
        "\n",
        "- Correlation value of r = +1 indicates perfect linearity (the two variables move together, like “height in inches” and “height in centimeters”). \n",
        "\n",
        "- Correlation value of r = 0 indicates no correlation \n",
        "- Correlation value of r = -1 indicates the variables are inversely correlated (an increase in one variable is associated with a decrease in the other).\n",
        "\n",
        "The most common measure to quantify correlation is the Pearson correlation coefficient. The Scipy library provides a method called pearsonr() (Pearson’s r)."
      ]
    },
    {
      "cell_type": "code",
      "metadata": {
        "colab": {
          "base_uri": "https://localhost:8080/"
        },
        "id": "GqG_d9n5pAfU",
        "outputId": "6bc11a17-ddc4-4fa5-9cdb-58fecf42eb40"
      },
      "source": [
        "from scipy import stats\n",
        "stats.pearsonr(con['Strength'], con['FlyAsh'])"
      ],
      "execution_count": 30,
      "outputs": [
        {
          "output_type": "execute_result",
          "data": {
            "text/plain": [
              "(-0.10575491629731355, 0.000675158355575339)"
            ]
          },
          "metadata": {
            "tags": []
          },
          "execution_count": 30
        }
      ]
    },
    {
      "cell_type": "markdown",
      "metadata": {
        "id": "tn5w6fIcrBXS"
      },
      "source": [
        "Two values returned by pearsonr() method are:\n",
        "\n",
        "- Pearson’s correlation coefficient r  = -0.1057, indicates that \"strength\" and \"Flyash\" are inversly correlated\n",
        "\n",
        "- A p-value. This is the probability that the true value of r is zero (no correlation).\n",
        "\n",
        "We conclude based on this that there is weak inverse linear relationship between concrete strength and fly ash but not so weak that we should conclude the variables are uncorrelated. In other words, it seems that fly ash does have some influence on concrete strength.\n",
        "\n",
        "**Correlation Matrix**\n",
        "\n",
        "A correlation matrix is a handy way to calculate the pairwise correlation coefficients between two or more (numeric) variables. The Pandas data frame has this functionality built-in to its corr() method, which I have wrapped inside the round() method to keep things tidy. Notice that every correlation matrix is symmetrical: the correlation of “Cement” with “Slag” is the same as the correlation of “Slag” with “Cement” (-0.28). Thus, the top (or bottom, depending on your preferences) of every correlation matrix is redundant. The correlation between each variable and itself is 1.0, hence the diagonal."
      ]
    },
    {
      "cell_type": "code",
      "metadata": {
        "colab": {
          "base_uri": "https://localhost:8080/",
          "height": 328
        },
        "id": "z7Y8I55sqUQw",
        "outputId": "fe6310ae-5533-4cf0-f09c-c2dcdb8d275b"
      },
      "source": [
        "cormat = con.corr()\n",
        "round(cormat,2)"
      ],
      "execution_count": 31,
      "outputs": [
        {
          "output_type": "execute_result",
          "data": {
            "text/html": [
              "<div>\n",
              "<style scoped>\n",
              "    .dataframe tbody tr th:only-of-type {\n",
              "        vertical-align: middle;\n",
              "    }\n",
              "\n",
              "    .dataframe tbody tr th {\n",
              "        vertical-align: top;\n",
              "    }\n",
              "\n",
              "    .dataframe thead th {\n",
              "        text-align: right;\n",
              "    }\n",
              "</style>\n",
              "<table border=\"1\" class=\"dataframe\">\n",
              "  <thead>\n",
              "    <tr style=\"text-align: right;\">\n",
              "      <th></th>\n",
              "      <th>Cement</th>\n",
              "      <th>Slag</th>\n",
              "      <th>FlyAsh</th>\n",
              "      <th>Water</th>\n",
              "      <th>SP</th>\n",
              "      <th>CoarseAgg</th>\n",
              "      <th>FineAgg</th>\n",
              "      <th>Age</th>\n",
              "      <th>Strength</th>\n",
              "    </tr>\n",
              "  </thead>\n",
              "  <tbody>\n",
              "    <tr>\n",
              "      <th>Cement</th>\n",
              "      <td>1.00</td>\n",
              "      <td>-0.28</td>\n",
              "      <td>-0.40</td>\n",
              "      <td>-0.08</td>\n",
              "      <td>0.09</td>\n",
              "      <td>-0.11</td>\n",
              "      <td>-0.22</td>\n",
              "      <td>0.08</td>\n",
              "      <td>0.50</td>\n",
              "    </tr>\n",
              "    <tr>\n",
              "      <th>Slag</th>\n",
              "      <td>-0.28</td>\n",
              "      <td>1.00</td>\n",
              "      <td>-0.32</td>\n",
              "      <td>0.11</td>\n",
              "      <td>0.04</td>\n",
              "      <td>-0.28</td>\n",
              "      <td>-0.28</td>\n",
              "      <td>-0.04</td>\n",
              "      <td>0.13</td>\n",
              "    </tr>\n",
              "    <tr>\n",
              "      <th>FlyAsh</th>\n",
              "      <td>-0.40</td>\n",
              "      <td>-0.32</td>\n",
              "      <td>1.00</td>\n",
              "      <td>-0.26</td>\n",
              "      <td>0.38</td>\n",
              "      <td>-0.01</td>\n",
              "      <td>0.08</td>\n",
              "      <td>-0.15</td>\n",
              "      <td>-0.11</td>\n",
              "    </tr>\n",
              "    <tr>\n",
              "      <th>Water</th>\n",
              "      <td>-0.08</td>\n",
              "      <td>0.11</td>\n",
              "      <td>-0.26</td>\n",
              "      <td>1.00</td>\n",
              "      <td>-0.66</td>\n",
              "      <td>-0.18</td>\n",
              "      <td>-0.45</td>\n",
              "      <td>0.28</td>\n",
              "      <td>-0.29</td>\n",
              "    </tr>\n",
              "    <tr>\n",
              "      <th>SP</th>\n",
              "      <td>0.09</td>\n",
              "      <td>0.04</td>\n",
              "      <td>0.38</td>\n",
              "      <td>-0.66</td>\n",
              "      <td>1.00</td>\n",
              "      <td>-0.27</td>\n",
              "      <td>0.22</td>\n",
              "      <td>-0.19</td>\n",
              "      <td>0.37</td>\n",
              "    </tr>\n",
              "    <tr>\n",
              "      <th>CoarseAgg</th>\n",
              "      <td>-0.11</td>\n",
              "      <td>-0.28</td>\n",
              "      <td>-0.01</td>\n",
              "      <td>-0.18</td>\n",
              "      <td>-0.27</td>\n",
              "      <td>1.00</td>\n",
              "      <td>-0.18</td>\n",
              "      <td>-0.00</td>\n",
              "      <td>-0.16</td>\n",
              "    </tr>\n",
              "    <tr>\n",
              "      <th>FineAgg</th>\n",
              "      <td>-0.22</td>\n",
              "      <td>-0.28</td>\n",
              "      <td>0.08</td>\n",
              "      <td>-0.45</td>\n",
              "      <td>0.22</td>\n",
              "      <td>-0.18</td>\n",
              "      <td>1.00</td>\n",
              "      <td>-0.16</td>\n",
              "      <td>-0.17</td>\n",
              "    </tr>\n",
              "    <tr>\n",
              "      <th>Age</th>\n",
              "      <td>0.08</td>\n",
              "      <td>-0.04</td>\n",
              "      <td>-0.15</td>\n",
              "      <td>0.28</td>\n",
              "      <td>-0.19</td>\n",
              "      <td>-0.00</td>\n",
              "      <td>-0.16</td>\n",
              "      <td>1.00</td>\n",
              "      <td>0.33</td>\n",
              "    </tr>\n",
              "    <tr>\n",
              "      <th>Strength</th>\n",
              "      <td>0.50</td>\n",
              "      <td>0.13</td>\n",
              "      <td>-0.11</td>\n",
              "      <td>-0.29</td>\n",
              "      <td>0.37</td>\n",
              "      <td>-0.16</td>\n",
              "      <td>-0.17</td>\n",
              "      <td>0.33</td>\n",
              "      <td>1.00</td>\n",
              "    </tr>\n",
              "  </tbody>\n",
              "</table>\n",
              "</div>"
            ],
            "text/plain": [
              "           Cement  Slag  FlyAsh  Water  ...  CoarseAgg  FineAgg   Age  Strength\n",
              "Cement       1.00 -0.28   -0.40  -0.08  ...      -0.11    -0.22  0.08      0.50\n",
              "Slag        -0.28  1.00   -0.32   0.11  ...      -0.28    -0.28 -0.04      0.13\n",
              "FlyAsh      -0.40 -0.32    1.00  -0.26  ...      -0.01     0.08 -0.15     -0.11\n",
              "Water       -0.08  0.11   -0.26   1.00  ...      -0.18    -0.45  0.28     -0.29\n",
              "SP           0.09  0.04    0.38  -0.66  ...      -0.27     0.22 -0.19      0.37\n",
              "CoarseAgg   -0.11 -0.28   -0.01  -0.18  ...       1.00    -0.18 -0.00     -0.16\n",
              "FineAgg     -0.22 -0.28    0.08  -0.45  ...      -0.18     1.00 -0.16     -0.17\n",
              "Age          0.08 -0.04   -0.15   0.28  ...      -0.00    -0.16  1.00      0.33\n",
              "Strength     0.50  0.13   -0.11  -0.29  ...      -0.16    -0.17  0.33      1.00\n",
              "\n",
              "[9 rows x 9 columns]"
            ]
          },
          "metadata": {
            "tags": []
          },
          "execution_count": 31
        }
      ]
    },
    {
      "cell_type": "markdown",
      "metadata": {
        "id": "IODH-wpyr8Uo"
      },
      "source": [
        "**Correlation Heatmap**\n",
        "\n",
        "Correlation matric can be passed to Seaborn’s heatmap() method to create a heatmap (or headgrid). \n",
        "\n",
        "The basic idea of heatmaps is that they replace numbers with colors of varying shades, as indicated by the scale on the right. Cells that are lighter have lower values of r. This type of visualization can make it much easier to spot linear relationships between variables than a table of numbers. \n",
        "\n",
        "For example, if I focus on the “Strength” column, I immediately see that “Cement” and \"Age\" have the largest positive correlations whereas \"Water\" has the large negative correlation."
      ]
    },
    {
      "cell_type": "code",
      "metadata": {
        "colab": {
          "base_uri": "https://localhost:8080/",
          "height": 313
        },
        "id": "zz_qla20r3--",
        "outputId": "116d3a93-2d59-4d48-ffea-456889fd0637"
      },
      "source": [
        "sns.heatmap(cormat, cmap = sns.cm.rocket_r);"
      ],
      "execution_count": 33,
      "outputs": [
        {
          "output_type": "display_data",
          "data": {
            "image/png": "[encoded data removed]",
            "text/plain": [
              "<Figure size 432x288 with 2 Axes>"
            ]
          },
          "metadata": {
            "tags": [],
            "needs_background": "light"
          }
        }
      ]
    },
    {
      "cell_type": "markdown",
      "metadata": {
        "id": "8PcWQzFktng9"
      },
      "source": [
        "Correlation $\\neq$ Independence\n",
        "\n",
        "Let us assume that X ~ U(0,1) and Y = X$^{2}$.\n",
        "\n",
        "Clearly, Y is dependent on X but let us compute the correlation between X and Y.\n"
      ]
    },
    {
      "cell_type": "code",
      "metadata": {
        "id": "eZrcdZm-sdiG"
      },
      "source": [
        "from scipy.stats import uniform\n",
        "import numpy as np\n",
        "\n",
        "x = np.linspace(-1,1,10)\n",
        "N = 1000 # draw 100 points from uniform distribution\n",
        "\n",
        "y = [a*a for a in x] # compute y = x^2 for every value of x\n"
      ],
      "execution_count": 50,
      "outputs": []
    },
    {
      "cell_type": "code",
      "metadata": {
        "colab": {
          "base_uri": "https://localhost:8080/"
        },
        "id": "do-aLim8uWfp",
        "outputId": "c103d7e9-0b5b-4741-8640-520eabb59fda"
      },
      "source": [
        "stats.pearsonr(x, y)"
      ],
      "execution_count": 51,
      "outputs": [
        {
          "output_type": "execute_result",
          "data": {
            "text/plain": [
              "(-1.0027643639803414e-16, 0.9999999999999991)"
            ]
          },
          "metadata": {
            "tags": []
          },
          "execution_count": 51
        }
      ]
    },
    {
      "cell_type": "markdown",
      "metadata": {
        "id": "_F2RNz2I04jB"
      },
      "source": [
        "Notice that the pearson coefficient is 0 with probabilit 1. Let us see a few more examples of such behaviour."
      ]
    },
    {
      "cell_type": "code",
      "metadata": {
        "colab": {
          "base_uri": "https://localhost:8080/",
          "height": 217
        },
        "id": "-cSwyEfmvsf1",
        "outputId": "c2fb23f9-ac06-40aa-989a-452e942e5a07"
      },
      "source": [
        "import matplotlib.pyplot as plt\n",
        "\n",
        "# Create a data matrix\n",
        "x = np.linspace(-1,1,100) # sample 100 points within -1 to 1 from a uniform distribution\n",
        "\n",
        "x = np.vstack((x, x*x)) # y = x*x\n",
        "x = np.vstack((x, -x[0,]**2)) # y = -x*x\n",
        "x = np.vstack((x, x[0,]**4)) # y = x**4\n",
        "x = np.vstack((x, np.log(x[0,]**2+1))) # y = log(x^2+1)\n",
        "x = np.vstack((x, np.exp(x[0,]))) # y = exp(x)\n",
        "\n",
        "# Compute the correlation\n",
        "rho_nonlinear = np.corrcoef(x)\n",
        "\n",
        "# Plot the data\n",
        "fig, ax = plt.subplots(nrows=1, ncols=5, figsize=(16, 3))\n",
        "title = ['$y=x^2$','$y=-x^2$','$y=x^4$','$y=\\log(x^2+1)$','$y=\\exp(x)$']\n",
        "for i in [0,1,2,3,4]:\n",
        "    ax[i].scatter(x[0,],x[1+i,],color='cyan')\n",
        "    ax[i].title.set_text(title[i] + '\\n' + \n",
        "                         'Correlation = ' + \"{:.2f}\".format(rho_nonlinear[0,i+1]))\n",
        "    ax[i].set(xlabel='x',ylabel='y')\n",
        "fig.subplots_adjust(wspace=.4)    \n",
        "plt.show()"
      ],
      "execution_count": 54,
      "outputs": [
        {
          "output_type": "display_data",
          "data": {
            "image/png": "[encoded data removed]",
            "text/plain": [
              "<Figure size 1152x216 with 5 Axes>"
            ]
          },
          "metadata": {
            "tags": [],
            "needs_background": "light"
          }
        }
      ]
    }
  ]
}