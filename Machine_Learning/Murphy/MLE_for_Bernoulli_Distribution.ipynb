{
  "nbformat": 4,
  "nbformat_minor": 0,
  "metadata": {
    "colab": {
      "name": "MLE for Bernoulli Distribution.ipynb",
      "provenance": [],
      "authorship_tag": "ABX9TyPuPXCnsK67IDBu/K84YrAP",
      "include_colab_link": true
    },
    "kernelspec": {
      "name": "python3",
      "display_name": "Python 3"
    },
    "language_info": {
      "name": "python"
    }
  },
  "cells": [
    {
      "cell_type": "markdown",
      "metadata": {
        "id": "view-in-github",
        "colab_type": "text"
      },
      "source": [
        "<a href=\"https://colab.research.google.com/github/neerajkumarvaid/ML_DL_RL_Codes/blob/master/Machine_Learning/Murphy/MLE_for_Bernoulli_Distribution.ipynb\" target=\"_parent\"><img src=\"https://colab.research.google.com/assets/colab-badge.svg\" alt=\"Open In Colab\"/></a>"
      ]
    },
    {
      "cell_type": "markdown",
      "source": [
        "Maximum Likelood Estimation (MLE) for Bernoulli Distribution"
      ],
      "metadata": {
        "id": "2FcWhFIMU512"
      }
    },
    {
      "cell_type": "code",
      "source": [
        "%matplotlib inline\n",
        "from __future__ import division\n",
        "\n",
        "import numpy as np\n",
        "import pandas as pd\n",
        "import statsmodels.api as sm\n",
        "import sympy as sp\n",
        "#import pymc\n",
        "import matplotlib.pyplot as plt\n",
        "import matplotlib.gridspec as gridspec\n",
        "from mpl_toolkits.mplot3d import Axes3D\n",
        "from scipy import stats\n",
        "from scipy.special import gamma\n",
        "\n",
        "from sympy.interactive import printing\n",
        "printing.init_printing()"
      ],
      "metadata": {
        "id": "r_Kwv3X3VF_C"
      },
      "execution_count": 5,
      "outputs": []
    },
    {
      "cell_type": "code",
      "source": [
        "# Simulate data\n",
        "np.random.seed(123) #random seed to ensure reproducibility of results\n",
        "\n",
        "N = 100 # number of observations\n",
        "theta = 0.3 # actual parameter (probability of Y = 1)\n",
        "Y = np.random.binomial(1, theta, N) # generate N output samples"
      ],
      "metadata": {
        "id": "EIqVaRCmVJQa"
      },
      "execution_count": 3,
      "outputs": []
    },
    {
      "cell_type": "code",
      "source": [
        "Y"
      ],
      "metadata": {
        "colab": {
          "base_uri": "https://localhost:8080/"
        },
        "id": "qKvVlGVepbNQ",
        "outputId": "2f42fcb1-374e-4e11-ae53-5f7b872f3369"
      },
      "execution_count": 14,
      "outputs": [
        {
          "output_type": "execute_result",
          "data": {
            "text/plain": [
              "array([0, 0, 0, 0, 1, 0, 1, 0, 0, 0, 0, 1, 0, 0, 0, 1, 0, 0, 0, 0, 0, 1,\n",
              "       1, 0, 1, 0, 0, 0, 0, 0, 0, 0, 0, 0, 0, 0, 0, 1, 1, 0, 0, 0, 0, 0,\n",
              "       1, 0, 0, 1, 0, 0, 0, 1, 0, 0, 0, 0, 0, 0, 1, 0, 0, 0, 0, 0, 1, 0,\n",
              "       1, 0, 0, 0, 0, 1, 0, 1, 0, 0, 0, 0, 0, 0, 0, 0, 0, 0, 1, 1, 0, 0,\n",
              "       0, 0, 1, 1, 0, 1, 0, 0, 0, 0, 0, 0])"
            ]
          },
          "metadata": {},
          "execution_count": 14
        }
      ]
    },
    {
      "cell_type": "code",
      "source": [
        "# Plot the data\n",
        "fig = plt.figure(figsize=(7,3)) #figure size\n",
        "gs = gridspec.GridSpec(1, 2, width_ratios=[5, 1]) \n",
        "ax1 = fig.add_subplot(gs[0])\n",
        "ax2 = fig.add_subplot(gs[1])\n",
        "\n",
        "ax1.plot(range(N), Y, 'x')\n",
        "ax2.hist(-Y, bins=2)\n",
        "\n",
        "ax1.yaxis.set(ticks=(0,1), ticklabels=('Failure', 'Success'))\n",
        "ax2.xaxis.set(ticks=(-1,0), ticklabels=('Success', 'Failure'));\n",
        "\n",
        "ax1.set(title=r'Bernoulli Trial Outcomes $(\\theta=0.3)$', xlabel='Trial', ylim=(-0.2, 1.2))\n",
        "ax2.set(ylabel='Frequency')\n",
        "\n",
        "fig.tight_layout()"
      ],
      "metadata": {
        "colab": {
          "base_uri": "https://localhost:8080/",
          "height": 225
        },
        "id": "Q0vcaK-0VVpY",
        "outputId": "0df5f4f9-2db7-4f90-96bf-69ba35403617"
      },
      "execution_count": 10,
      "outputs": [
        {
          "output_type": "display_data",
          "data": {
            "text/plain": [
              "<Figure size 504x216 with 2 Axes>"
            ],
            "image/png": "[encoded data removed]"
          },
          "metadata": {
            "needs_background": "light"
          }
        }
      ]
    },
    {
      "cell_type": "markdown",
      "source": [
        "MLE for $\\theta$ can be written as:\n",
        "\n",
        "$\\hat{\\theta}_{MLE} = \\frac{N_{1}}{N_{0} + N_{1}}$"
      ],
      "metadata": {
        "id": "mBqY507Iodk8"
      }
    },
    {
      "cell_type": "code",
      "source": [
        "# Find the optimal theta_hat using the analytic solution\n",
        "theta_hat_mle = Y.sum() / N #implementation of above equation\n",
        "var_analytic = (theta_hat_analytic * (1 - theta_hat_analytic)) / N #once we have theta, we can estimate the variance of the Bernoulli trial\n",
        "print('MLE Results: %.2f (%.10f)' % (theta_hat_analytic, var_analytic**0.5))"
      ],
      "metadata": {
        "colab": {
          "base_uri": "https://localhost:8080/"
        },
        "id": "-_3LcKlrWsuE",
        "outputId": "5101b5b6-19eb-4b14-c34b-d152a97e5f95"
      },
      "execution_count": 13,
      "outputs": [
        {
          "output_type": "stream",
          "name": "stdout",
          "text": [
            "MLE Results: 0.22 (0.0414246304)\n"
          ]
        }
      ]
    },
    {
      "cell_type": "code",
      "source": [
        "# How MLE varies with the number of observations?\n",
        "N_values = [5, 10, 50, 100, 1000, 10000]\n",
        "theta = 0.3 # actual parameter (probability of Y = 1)\n",
        "\n",
        "theta_estimates = []\n",
        "\n",
        "for N in N_values:\n",
        "  Y = np.random.binomial(1, theta, N) # generate ground truth\n",
        "  theta_hat_mle = Y.sum() / N # MLE of theta\n",
        "  theta_estimates.append(theta_hat_mle)\n",
        "\n"
      ],
      "metadata": {
        "id": "Wym0Oy5WWyM2"
      },
      "execution_count": 23,
      "outputs": []
    },
    {
      "cell_type": "code",
      "source": [
        "theta_estimates"
      ],
      "metadata": {
        "colab": {
          "base_uri": "https://localhost:8080/",
          "height": 37
        },
        "id": "AoRy214wp7zl",
        "outputId": "ac2621a9-fa82-4aa1-8ecf-86db2d367b91"
      },
      "execution_count": 24,
      "outputs": [
        {
          "output_type": "execute_result",
          "data": {
            "text/plain": [
              "[0.4, 0.2, 0.36, 0.36, 0.31, 0.3026]"
            ],
            "image/png": "[encoded data removed]",
            "text/latex": "$\\displaystyle \\left[ 0.4, \\  0.2, \\  0.36, \\  0.36, \\  0.31, \\  0.3026\\right]$"
          },
          "metadata": {},
          "execution_count": 24
        }
      ]
    },
    {
      "cell_type": "code",
      "source": [
        "plt.axhline(y=theta, color='r', linestyle='-')\n",
        "plt.plot(N_values ,theta_estimates)\n",
        "plt.title(\"Variation of MLE of theta wrt the # of Observations\")\n",
        "plt.xlabel(\"# of Observations\")\n",
        "plt.xlabel(\"Theta Value\")\n",
        "plt.legend(['Actual', 'Estimated'])\n",
        "plt.show()"
      ],
      "metadata": {
        "colab": {
          "base_uri": "https://localhost:8080/",
          "height": 295
        },
        "id": "dNFn7KQ0p84o",
        "outputId": "8e974f32-46bc-41a8-fc0e-493c49302a44"
      },
      "execution_count": 36,
      "outputs": [
        {
          "output_type": "display_data",
          "data": {
            "text/plain": [
              "<Figure size 432x288 with 1 Axes>"
            ],
            "image/png": "[encoded data removed]"
          },
          "metadata": {
            "needs_background": "light"
          }
        }
      ]
    }
  ]
}