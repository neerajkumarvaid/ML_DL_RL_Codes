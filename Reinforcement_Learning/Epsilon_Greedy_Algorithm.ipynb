{
  "nbformat": 4,
  "nbformat_minor": 0,
  "metadata": {
    "colab": {
      "name": "Epsilon-Greedy Algorithm.ipynb",
      "provenance": [],
      "collapsed_sections": [],
      "authorship_tag": "ABX9TyMcEzRsFNSTzCkv1IutV5i3",
      "include_colab_link": true
    },
    "kernelspec": {
      "name": "python3",
      "display_name": "Python 3"
    },
    "language_info": {
      "name": "python"
    }
  },
  "cells": [
    {
      "cell_type": "markdown",
      "metadata": {
        "id": "view-in-github",
        "colab_type": "text"
      },
      "source": [
        "<a href=\"https://colab.research.google.com/github/neerajkumarvaid/ML_DL_RL_Codes/blob/master/Reinforcement_Learning/Epsilon_Greedy_Algorithm.ipynb\" target=\"_parent\"><img src=\"https://colab.research.google.com/assets/colab-badge.svg\" alt=\"Open In Colab\"/></a>"
      ]
    },
    {
      "cell_type": "markdown",
      "source": [
        "Implemenation of the epsilon-greedy algorithm for solving a multi-arm bandit problem with exploration-exploitation dilemma. \n",
        "We wil first import the required libraries such as numpy, matplotlib etc."
      ],
      "metadata": {
        "id": "37q9-LKvRAes"
      }
    },
    {
      "cell_type": "code",
      "execution_count": 2,
      "metadata": {
        "id": "ptE5yk28K6G3"
      },
      "outputs": [],
      "source": [
        "from __future__ import print_function, division\n",
        "from builtins import range\n",
        "\n",
        "import matplotlib.pyplot as plt\n",
        "import numpy as np"
      ]
    },
    {
      "cell_type": "markdown",
      "source": [
        "Now we will initialize the parameters of the model."
      ],
      "metadata": {
        "id": "geNHzuutRmsu"
      }
    },
    {
      "cell_type": "code",
      "source": [
        "NUM_TRIALS = 10000 # number trials to terminate the loop\n",
        "EPS = 0.1 # esilon value - we will explore with probability < EPS\n",
        "BANDIT_PROBABILITIES = [0.2, 0.5, 0.75] # Win probability of each bandit"
      ],
      "metadata": {
        "id": "iBuYSvjSRecN"
      },
      "execution_count": 28,
      "outputs": []
    },
    {
      "cell_type": "code",
      "source": [
        "# Create a class for obtaining Bandit instances\n",
        "class BanditArm:\n",
        "  def __init__(self, p):\n",
        "    # p: the win rate\n",
        "    self.p = p # initial win rate \n",
        "    self.p_estimate = 0. # Estinated win rate through exploitation/experiments\n",
        "    self.N = 0 # # num samples collected so far\n",
        "\n",
        "  def pull(self):\n",
        "    # draw a 1 with probability p\n",
        "    return np.random.random() < self.p\n",
        "\n",
        "  def update(self, x):\n",
        "    self.N = self.N + 1 # update the number of trials\n",
        "    self.p_estimate = self.p_estimate + (1//self.N)*(x- self.p_estimate)  # update the estimated win probability"
      ],
      "metadata": {
        "id": "rf3ku1GhLDK-"
      },
      "execution_count": 14,
      "outputs": []
    },
    {
      "cell_type": "code",
      "source": [
        "def experiment():\n",
        "  bandits = [BanditArm(p) for p in BANDIT_PROBABILITIES] # create a list of bandits\n",
        "\n",
        "  rewards = np.zeros(NUM_TRIALS) # rewards earned in each trial\n",
        "  num_times_explored = 0 \n",
        "  num_times_exploited = 0\n",
        "  num_optimal = 0 # number of times the optimal bandit is selected\n",
        "  optimal_j = np.argmax([b.p for b in bandits]) # select the first bandit that has the maximum default win probability\n",
        "  print(\"optimal j:\", optimal_j)\n",
        "\n",
        "  for i in range(NUM_TRIALS):\n",
        "\n",
        "    # use epsilon-greedy to select the next bandit\n",
        "    if np.random.random() < EPS:\n",
        "      num_times_explored += 1\n",
        "      j = np.random.choice(len(bandits))# select a random bandit during exploration\n",
        "    else:\n",
        "      num_times_exploited += 1\n",
        "      j = optimal_j # exploit the bandit with maximum default win probability \n",
        "\n",
        "    if j == optimal_j:\n",
        "      num_optimal += 1\n",
        "\n",
        "    # pull the arm for the bandit with the largest sample\n",
        "    x = bandits[j].pull()\n",
        "\n",
        "    # update rewards log\n",
        "    rewards[i] = x\n",
        "\n",
        "    # update the distribution for the bandit whose arm we just pulled\n",
        "    bandits[j].update(x)\n",
        "\n",
        "    # print mean estimates for each bandit\n",
        "  for b in bandits:\n",
        "    print(\"mean estimate:\", b.p_estimate)\n",
        "\n",
        "  # print total reward\n",
        "  print(\"total reward earned:\", rewards.sum())\n",
        "  print(\"overall win rate:\", rewards.sum() / NUM_TRIALS)\n",
        "  print(\"num_times_explored:\", num_times_explored)\n",
        "  print(\"num_times_exploited:\", num_times_exploited)\n",
        "  print(\"num times selected optimal bandit:\", num_optimal)\n",
        "\n",
        "  # plot the results\n",
        "  cumulative_rewards = np.cumsum(rewards)\n",
        "  win_rates = cumulative_rewards / (np.arange(NUM_TRIALS) + 1)\n",
        "  plt.plot(win_rates)\n",
        "  plt.plot(np.ones(NUM_TRIALS)*np.max(BANDIT_PROBABILITIES))\n",
        "  plt.show()\n",
        "\n",
        "if __name__ == \"__main__\":\n",
        "  experiment()\n"
      ],
      "metadata": {
        "colab": {
          "base_uri": "https://localhost:8080/",
          "height": 426
        },
        "id": "TjZ1UCnKLTCr",
        "outputId": "5d828d9e-2033-4a62-bf7d-6c0565bb65dd"
      },
      "execution_count": 32,
      "outputs": [
        {
          "output_type": "stream",
          "name": "stdout",
          "text": [
            "optimal j: 2\n",
            "mean estimate: 0.0\n",
            "mean estimate: 1.0\n",
            "mean estimate: 1.0\n",
            "total reward earned: 7178.0\n",
            "overall win rate: 0.7178\n",
            "num_times_explored: 1013\n",
            "num_times_exploited: 8987\n",
            "num times selected optimal bandit: 9334\n"
          ]
        },
        {
          "output_type": "display_data",
          "data": {
            "text/plain": [
              "<Figure size 432x288 with 1 Axes>"
            ],
            "image/png": "[encoded data removed]"
          },
          "metadata": {
            "needs_background": "light"
          }
        }
      ]
    },
    {
      "cell_type": "code",
      "source": [
        ""
      ],
      "metadata": {
        "id": "N_9AXfovTijU"
      },
      "execution_count": null,
      "outputs": []
    }
  ]
}