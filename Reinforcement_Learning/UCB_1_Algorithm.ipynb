{
  "nbformat": 4,
  "nbformat_minor": 0,
  "metadata": {
    "colab": {
      "name": "UCB 1 Algorithm.ipynb",
      "provenance": [],
      "authorship_tag": "ABX9TyODL6buiOYqXpeGwywFUq4c",
      "include_colab_link": true
    },
    "kernelspec": {
      "name": "python3",
      "display_name": "Python 3"
    },
    "language_info": {
      "name": "python"
    }
  },
  "cells": [
    {
      "cell_type": "markdown",
      "metadata": {
        "id": "view-in-github",
        "colab_type": "text"
      },
      "source": [
        "<a href=\"https://colab.research.google.com/github/neerajkumarvaid/ML_DL_RL_Codes/blob/master/Reinforcement_Learning/UCB_1_Algorithm.ipynb\" target=\"_parent\"><img src=\"https://colab.research.google.com/assets/colab-badge.svg\" alt=\"Open In Colab\"/></a>"
      ]
    },
    {
      "cell_type": "code",
      "execution_count": 1,
      "metadata": {
        "id": "PcHEEzkZf2HT"
      },
      "outputs": [],
      "source": [
        "from __future__ import print_function, division\n",
        "from builtins import range\n",
        "# Note: you may need to update your version of future\n",
        "# sudo pip install -U future\n",
        "\n",
        "import numpy as np\n",
        "import matplotlib.pyplot as plt"
      ]
    },
    {
      "cell_type": "code",
      "source": [
        "NUM_TRIALS = 100000\n",
        "EPS = 0.1\n",
        "BANDIT_PROBABILITIES = [0.2, 0.5, 0.75]\n"
      ],
      "metadata": {
        "id": "xg3yIFCAf2q8"
      },
      "execution_count": 2,
      "outputs": []
    },
    {
      "cell_type": "code",
      "source": [
        "class Bandit:\n",
        "  def __init__(self, p):\n",
        "    # p: the win rate\n",
        "    self.p = p\n",
        "    self.p_estimate = 0.\n",
        "    self.N = 0. # num samples collected so far\n",
        "\n",
        "  def pull(self):\n",
        "    # draw a 1 with probability p\n",
        "    return np.random.random() < self.p\n",
        "\n",
        "  def update(self, x):\n",
        "    self.N += 1.\n",
        "    self.p_estimate = ((self.N - 1)*self.p_estimate + x) / self.N"
      ],
      "metadata": {
        "id": "qV4zhQnFf62N"
      },
      "execution_count": 3,
      "outputs": []
    },
    {
      "cell_type": "code",
      "source": [
        "def ucb(mean, n, nj):\n",
        "  return mean + np.sqrt(2*np.log(n) / nj)"
      ],
      "metadata": {
        "id": "gjXhnfekf9gj"
      },
      "execution_count": 4,
      "outputs": []
    },
    {
      "cell_type": "code",
      "source": [
        "def run_experiment():\n",
        "  bandits = [Bandit(p) for p in BANDIT_PROBABILITIES]\n",
        "  rewards = np.empty(NUM_TRIALS)\n",
        "  total_plays = 0\n",
        "\n",
        "  # initialization: play each bandit once\n",
        "  for j in range(len(bandits)):\n",
        "    x = bandits[j].pull()\n",
        "    total_plays += 1\n",
        "    bandits[j].update(x)\n",
        "  \n",
        "  for i in range(NUM_TRIALS):\n",
        "    j = np.argmax([ucb(b.p_estimate, total_plays, b.N) for b in bandits])\n",
        "    x = bandits[j].pull()\n",
        "    total_plays += 1\n",
        "    bandits[j].update(x)\n",
        "\n",
        "    # for the plot\n",
        "    rewards[i] = x\n",
        "  cumulative_average = np.cumsum(rewards) / (np.arange(NUM_TRIALS) + 1)\n",
        "\n",
        "  # plot moving average ctr\n",
        "  plt.plot(cumulative_average)\n",
        "  plt.plot(np.ones(NUM_TRIALS)*np.max(BANDIT_PROBABILITIES))\n",
        "  plt.xscale('log')\n",
        "  plt.show()\n",
        "\n",
        "  # plot moving average ctr linear\n",
        "  plt.plot(cumulative_average)\n",
        "  plt.plot(np.ones(NUM_TRIALS)*np.max(BANDIT_PROBABILITIES))\n",
        "  plt.show()\n",
        "\n",
        "  for b in bandits:\n",
        "    print(b.p_estimate)\n",
        "\n",
        "  print(\"total reward earned:\", rewards.sum())\n",
        "  print(\"overall win rate:\", rewards.sum() / NUM_TRIALS)\n",
        "  print(\"num times selected each bandit:\", [b.N for b in bandits])\n",
        "\n",
        "  return cumulative_average\n",
        "\n",
        "if __name__ == '__main__':\n",
        "  run_experiment()"
      ],
      "metadata": {
        "colab": {
          "base_uri": "https://localhost:8080/",
          "height": 624
        },
        "id": "BA8KOemCf_fT",
        "outputId": "4cf5a2f6-66ef-41ba-9a79-2f818ea74db2"
      },
      "execution_count": 5,
      "outputs": [
        {
          "output_type": "display_data",
          "data": {
            "text/plain": [
              "<Figure size 432x288 with 1 Axes>"
            ],
            "image/png": "[encoded data removed]"
          },
          "metadata": {
            "needs_background": "light"
          }
        },
        {
          "output_type": "display_data",
          "data": {
            "text/plain": [
              "<Figure size 432x288 with 1 Axes>"
            ],
            "image/png": "[encoded data removed]"
          },
          "metadata": {
            "needs_background": "light"
          }
        },
        {
          "output_type": "stream",
          "name": "stdout",
          "text": [
            "0.20270270270270271\n",
            "0.5215189873417718\n",
            "0.748779311592022\n",
            "total reward earned: 74748.0\n",
            "overall win rate: 0.74748\n",
            "num times selected each bandit: [74.0, 395.0, 99534.0]\n"
          ]
        }
      ]
    },
    {
      "cell_type": "code",
      "source": [
        ""
      ],
      "metadata": {
        "id": "daBpHU5jgFdk"
      },
      "execution_count": null,
      "outputs": []
    }
  ]
}