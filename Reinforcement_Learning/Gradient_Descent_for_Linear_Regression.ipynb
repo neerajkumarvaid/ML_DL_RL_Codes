{
  "nbformat": 4,
  "nbformat_minor": 0,
  "metadata": {
    "colab": {
      "name": "Gradient Descent for Linear Regression.ipynb",
      "provenance": [],
      "authorship_tag": "ABX9TyO8Oh77dY49tDb3EkdC6u4E",
      "include_colab_link": true
    },
    "kernelspec": {
      "name": "python3",
      "display_name": "Python 3"
    },
    "language_info": {
      "name": "python"
    }
  },
  "cells": [
    {
      "cell_type": "markdown",
      "metadata": {
        "id": "view-in-github",
        "colab_type": "text"
      },
      "source": [
        "<a href=\"https://colab.research.google.com/github/neerajkumarvaid/ML_DL_RL_Codes/blob/master/Reinforcement_Learning/Gradient_Descent_for_Linear_Regression.ipynb\" target=\"_parent\"><img src=\"https://colab.research.google.com/assets/colab-badge.svg\" alt=\"Open In Colab\"/></a>"
      ]
    },
    {
      "cell_type": "code",
      "execution_count": 1,
      "metadata": {
        "id": "p2lCUTvtWdeO"
      },
      "outputs": [],
      "source": [
        "from __future__ import print_function, division\n",
        "from builtins import range\n",
        "\n",
        "import numpy as np\n",
        "import matplotlib.pyplot as plt\n"
      ]
    },
    {
      "cell_type": "code",
      "source": [
        "# Generate Synthetic data\n",
        "N = 10 # number of data points\n",
        "D = 3 # number of dimensions of each data point\n",
        "X = np.zeros((N, D)) # create a NxD matrix of all zeros\n",
        "X[:,0] = 1 # bias term\n",
        "X[:5,1] = 1\n",
        "X[5:,2] = 1\n",
        "Y = np.array([0]*5 + [1]*5)"
      ],
      "metadata": {
        "id": "ft2MkMRVWhGA"
      },
      "execution_count": 2,
      "outputs": []
    },
    {
      "cell_type": "code",
      "source": [
        "# print X so you know what it looks like\n",
        "print(\"X:\", X)"
      ],
      "metadata": {
        "colab": {
          "base_uri": "https://localhost:8080/"
        },
        "id": "044w7MSXWyyr",
        "outputId": "e4837080-14a7-415c-bc1f-19e301c3ce83"
      },
      "execution_count": 4,
      "outputs": [
        {
          "output_type": "stream",
          "name": "stdout",
          "text": [
            "X: [[1. 1. 0.]\n",
            " [1. 1. 0.]\n",
            " [1. 1. 0.]\n",
            " [1. 1. 0.]\n",
            " [1. 1. 0.]\n",
            " [1. 0. 1.]\n",
            " [1. 0. 1.]\n",
            " [1. 0. 1.]\n",
            " [1. 0. 1.]\n",
            " [1. 0. 1.]]\n"
          ]
        }
      ]
    },
    {
      "cell_type": "code",
      "source": [
        "# print Y so you know what it looks like\n",
        "print(\"Y:\", Y)"
      ],
      "metadata": {
        "colab": {
          "base_uri": "https://localhost:8080/"
        },
        "id": "heu8fgjLWzuN",
        "outputId": "53382d38-d764-46b2-e59e-9aded1a339ee"
      },
      "execution_count": 5,
      "outputs": [
        {
          "output_type": "stream",
          "name": "stdout",
          "text": [
            "Y: [0 0 0 0 0 1 1 1 1 1]\n"
          ]
        }
      ]
    },
    {
      "cell_type": "code",
      "source": [
        "# let's try gradient descent\n",
        "costs = [] # keep track of squared error cost\n",
        "w = np.random.randn(D) / np.sqrt(D) # randomly initialize w\n",
        "learning_rate = 0.001\n",
        "for t in range(1000):\n",
        "  # update w\n",
        "  Yhat = X.dot(w)\n",
        "  delta = Yhat - Y\n",
        "  w = w - learning_rate*X.T.dot(delta)\n",
        "\n",
        "  # find and store the cost\n",
        "  mse = delta.dot(delta) / N\n",
        "  costs.append(mse)\n",
        "\n",
        "# plot the costs\n",
        "plt.plot(costs)\n",
        "plt.show()\n",
        "\n",
        "print(\"final w:\", w)\n",
        "\n",
        "# plot prediction vs target\n",
        "plt.plot(Yhat, label='prediction')\n",
        "plt.plot(Y, label='target')\n",
        "plt.legend()\n",
        "plt.show()"
      ],
      "metadata": {
        "colab": {
          "base_uri": "https://localhost:8080/",
          "height": 531
        },
        "id": "LCOLH8zeXF24",
        "outputId": "23156033-d175-49cd-9ecc-da1bfa7076e6"
      },
      "execution_count": 6,
      "outputs": [
        {
          "output_type": "display_data",
          "data": {
            "text/plain": [
              "<Figure size 432x288 with 1 Axes>"
            ],
            "image/png": "[encoded data removed]"
          },
          "metadata": {
            "needs_background": "light"
          }
        },
        {
          "output_type": "stream",
          "name": "stdout",
          "text": [
            "final w: [ 0.42838237 -0.42552183  0.5687563 ]\n"
          ]
        },
        {
          "output_type": "display_data",
          "data": {
            "text/plain": [
              "<Figure size 432x288 with 1 Axes>"
            ],
            "image/png": "[encoded data removed]"
          },
          "metadata": {
            "needs_background": "light"
          }
        }
      ]
    }
  ]
}